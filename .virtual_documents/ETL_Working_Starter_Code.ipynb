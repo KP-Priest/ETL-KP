# Import dependencies
import pandas as pd
import numpy as np
pd.set_option('max_colwidth', 400)





# Read the data into a Pandas DataFrame. Use the `header=2` parameter when reading in the data.
contact_info_df = pd.read_excel('/Users/kp/Git/ETL-KP/Resources/contacts.xlsx', header=3)
contact_info_df.head()








# Iterate through the contact_info_df and convert each row to a dictionary.
import json
import pandas as pd

dict_values = []
for contact, row in contact_info_df.iterrows():
    #convert DataFrame row to a dictionary
    data = row[0]
    contact_dict = json.loads(data)
    
    # Extract the dictionary values from the keys by using a Python list comprehension.
    list_comp = [contact_dict.get("contact_id"), contact_dict.get("name"), contact_dict.get("email")]

    # Add the values for each row to a new list.
    dict_values.append(list_comp)
    
    # Print out the list of values for each row.
print(dict_values)


# Create a contact_info DataFrame and add each list of values, i.e., each row 
# to the 'contact_id', 'name', 'email' columns.

columns=["contact_id", "name", "email"]
contact_df=pd.DataFrame(dict_values, columns=columns)
contact_df.head()


# Check the datatypes.
contact_df.info()


# Create a "first"name" and "last_name" column with the first and last names from the "name" column. 
contact_df[["first_name", "last_name"]]=contact_df["name"].str.split(' ', expand=True)

# Drop the contact_name column
contact_df.drop(columns=["name"], inplace=True)
contact_df.head()




# Reorder the columns
contact_df_clean=contact_df[["contact_id", "first_name", "last_name", "email"]]
contact_df_clean.head()


# Check the datatypes one more time before exporting as CSV file.
contact_df_clean.info()


# Export the DataFrame as a CSV file. 
contacts_df_clean.to_csv("Resources/contacts.csv", encoding='utf8', index=False)


contacts_df_clean.to_csv(



